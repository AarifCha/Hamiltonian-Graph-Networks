{
  "cells": [
    {
      "cell_type": "markdown",
      "metadata": {
        "id": "view-in-github",
        "colab_type": "text"
      },
      "source": [
        "<a href=\"https://colab.research.google.com/github/AarifCha/Hamiltonian-Graph-Networks/blob/main/InteractionNetwork.ipynb\" target=\"_parent\"><img src=\"https://colab.research.google.com/assets/colab-badge.svg\" alt=\"Open In Colab\"/></a>"
      ]
    },
    {
      "cell_type": "markdown",
      "id": "46558e6b-a807-4317-9fd7-48fdb98df90c",
      "metadata": {
        "id": "46558e6b-a807-4317-9fd7-48fdb98df90c"
      },
      "source": [
        "# Imports"
      ]
    },
    {
      "cell_type": "code",
      "execution_count": null,
      "id": "830514f2",
      "metadata": {
        "id": "830514f2",
        "colab": {
          "base_uri": "https://localhost:8080/"
        },
        "outputId": "e4821006-0b06-4dbd-ac6c-412de2f576ce"
      },
      "outputs": [
        {
          "output_type": "stream",
          "name": "stdout",
          "text": [
            "\u001b[2K     \u001b[90m━━━━━━━━━━━━━━━━━━━━━━━━━━━━━━━━━━━━━━━━\u001b[0m \u001b[32m836.8/836.8 kB\u001b[0m \u001b[31m8.3 MB/s\u001b[0m eta \u001b[36m0:00:00\u001b[0m\n",
            "\u001b[2K     \u001b[90m━━━━━━━━━━━━━━━━━━━━━━━━━━━━━━━━━━━━━━━━\u001b[0m \u001b[32m14.5/14.5 MB\u001b[0m \u001b[31m35.6 MB/s\u001b[0m eta \u001b[36m0:00:00\u001b[0m\n",
            "\u001b[2K     \u001b[90m━━━━━━━━━━━━━━━━━━━━━━━━━━━━━━━━━━━━━━━━\u001b[0m \u001b[32m773.9/773.9 kB\u001b[0m \u001b[31m23.7 MB/s\u001b[0m eta \u001b[36m0:00:00\u001b[0m\n",
            "\u001b[2K     \u001b[90m━━━━━━━━━━━━━━━━━━━━━━━━━━━━━━━━━━━━━━━━\u001b[0m \u001b[32m77.9/77.9 kB\u001b[0m \u001b[31m6.2 MB/s\u001b[0m eta \u001b[36m0:00:00\u001b[0m\n",
            "\u001b[?25h  Preparing metadata (setup.py) ... \u001b[?25l\u001b[?25hdone\n",
            "\u001b[2K     \u001b[90m━━━━━━━━━━━━━━━━━━━━━━━━━━━━━━━━━━━━━━━━\u001b[0m \u001b[32m61.2/61.2 kB\u001b[0m \u001b[31m3.9 MB/s\u001b[0m eta \u001b[36m0:00:00\u001b[0m\n",
            "\u001b[2K     \u001b[90m━━━━━━━━━━━━━━━━━━━━━━━━━━━━━━━━━━━━━━━━\u001b[0m \u001b[32m2.3/2.3 MB\u001b[0m \u001b[31m9.6 MB/s\u001b[0m eta \u001b[36m0:00:00\u001b[0m\n",
            "\u001b[2K     \u001b[90m━━━━━━━━━━━━━━━━━━━━━━━━━━━━━━━━━━━━━━━━\u001b[0m \u001b[32m89.7/89.7 kB\u001b[0m \u001b[31m6.0 MB/s\u001b[0m eta \u001b[36m0:00:00\u001b[0m\n",
            "\u001b[?25h  Preparing metadata (setup.py) ... \u001b[?25l\u001b[?25hdone\n",
            "\u001b[2K     \u001b[90m━━━━━━━━━━━━━━━━━━━━━━━━━━━━━━━━━━━━━━━━\u001b[0m \u001b[32m142.5/142.5 kB\u001b[0m \u001b[31m1.9 MB/s\u001b[0m eta \u001b[36m0:00:00\u001b[0m\n",
            "\u001b[2K     \u001b[90m━━━━━━━━━━━━━━━━━━━━━━━━━━━━━━━━━━━━━━━━\u001b[0m \u001b[32m152.0/152.0 kB\u001b[0m \u001b[31m8.7 MB/s\u001b[0m eta \u001b[36m0:00:00\u001b[0m\n",
            "\u001b[?25h  Preparing metadata (setup.py) ... \u001b[?25l\u001b[?25hdone\n",
            "\u001b[2K     \u001b[90m━━━━━━━━━━━━━━━━━━━━━━━━━━━━━━━━━━━━━━━━\u001b[0m \u001b[32m3.1/3.1 MB\u001b[0m \u001b[31m20.4 MB/s\u001b[0m eta \u001b[36m0:00:00\u001b[0m\n",
            "\u001b[2K     \u001b[90m━━━━━━━━━━━━━━━━━━━━━━━━━━━━━━━━━━━━━━━━\u001b[0m \u001b[32m43.5/43.5 kB\u001b[0m \u001b[31m4.5 MB/s\u001b[0m eta \u001b[36m0:00:00\u001b[0m\n",
            "\u001b[?25h  Preparing metadata (setup.py) ... \u001b[?25l\u001b[?25hdone\n",
            "\u001b[2K     \u001b[90m━━━━━━━━━━━━━━━━━━━━━━━━━━━━━━━━━━━━━━━━\u001b[0m \u001b[32m670.0/670.0 kB\u001b[0m \u001b[31m17.7 MB/s\u001b[0m eta \u001b[36m0:00:00\u001b[0m\n",
            "\u001b[2K     \u001b[90m━━━━━━━━━━━━━━━━━━━━━━━━━━━━━━━━━━━━━━━━\u001b[0m \u001b[32m252.0/252.0 kB\u001b[0m \u001b[31m21.2 MB/s\u001b[0m eta \u001b[36m0:00:00\u001b[0m\n",
            "\u001b[2K     \u001b[90m━━━━━━━━━━━━━━━━━━━━━━━━━━━━━━━━━━━━━━━━\u001b[0m \u001b[32m5.4/5.4 MB\u001b[0m \u001b[31m29.5 MB/s\u001b[0m eta \u001b[36m0:00:00\u001b[0m\n",
            "\u001b[2K     \u001b[90m━━━━━━━━━━━━━━━━━━━━━━━━━━━━━━━━━━━━━━━━\u001b[0m \u001b[32m1.0/1.0 MB\u001b[0m \u001b[31m43.1 MB/s\u001b[0m eta \u001b[36m0:00:00\u001b[0m\n",
            "\u001b[2K     \u001b[90m━━━━━━━━━━━━━━━━━━━━━━━━━━━━━━━━━━━━━━━━\u001b[0m \u001b[32m2.8/2.8 MB\u001b[0m \u001b[31m45.9 MB/s\u001b[0m eta \u001b[36m0:00:00\u001b[0m\n",
            "\u001b[2K     \u001b[90m━━━━━━━━━━━━━━━━━━━━━━━━━━━━━━━━━━━━━━━━\u001b[0m \u001b[32m294.6/294.6 kB\u001b[0m \u001b[31m24.8 MB/s\u001b[0m eta \u001b[36m0:00:00\u001b[0m\n",
            "\u001b[?25h  Preparing metadata (setup.py) ... \u001b[?25l\u001b[?25hdone\n",
            "  Preparing metadata (setup.py) ... \u001b[?25l\u001b[?25hdone\n",
            "\u001b[2K     \u001b[90m━━━━━━━━━━━━━━━━━━━━━━━━━━━━━━━━━━━━━━━━\u001b[0m \u001b[32m307.7/307.7 kB\u001b[0m \u001b[31m26.5 MB/s\u001b[0m eta \u001b[36m0:00:00\u001b[0m\n",
            "\u001b[?25h  Building wheel for ml-collections (setup.py) ... \u001b[?25l\u001b[?25hdone\n",
            "  Building wheel for crcmod (setup.py) ... \u001b[?25l\u001b[?25hdone\n",
            "  Building wheel for dill (setup.py) ... \u001b[?25l\u001b[?25hdone\n",
            "  Building wheel for hdfs (setup.py) ... \u001b[?25l\u001b[?25hdone\n",
            "  Building wheel for pyjsparser (setup.py) ... \u001b[?25l\u001b[?25hdone\n",
            "  Building wheel for docopt (setup.py) ... \u001b[?25l\u001b[?25hdone\n",
            "\u001b[31mERROR: pip's dependency resolver does not currently take into account all the packages that are installed. This behaviour is the source of the following dependency conflicts.\n",
            "tensorflow-metadata 1.15.0 requires protobuf<4.21,>=3.20.3; python_version < \"3.11\", but you have protobuf 4.25.3 which is incompatible.\u001b[0m\u001b[31m\n",
            "\u001b[0m"
          ]
        }
      ],
      "source": [
        "!pip install -q tensorflow-gnn\n",
        "\n",
        "from typing import Type, Callable, Optional, Mapping, Tuple\n",
        "from google.protobuf import text_format\n",
        "import tensorflow as tf\n",
        "import tensorflow_gnn as tfgnn\n",
        "import tensorflow_gnn.proto.graph_schema_pb2 as schema_pb2\n",
        "from tensorflow_gnn.graph import graph_constants as const\n",
        "import numpy as np\n",
        "import matplotlib.pyplot as plt"
      ]
    },
    {
      "cell_type": "markdown",
      "id": "839cbdbe-971b-45a5-b72b-40ae1238e0b8",
      "metadata": {
        "id": "839cbdbe-971b-45a5-b72b-40ae1238e0b8"
      },
      "source": [
        "# Graph Schema"
      ]
    },
    {
      "cell_type": "code",
      "execution_count": null,
      "id": "3df5f15d-cf16-4e38-9f71-906b613fd20e",
      "metadata": {
        "colab": {
          "base_uri": "https://localhost:8080/"
        },
        "id": "3df5f15d-cf16-4e38-9f71-906b613fd20e",
        "outputId": "bc08a814-65be-46bd-99a1-9c974ac8e87c"
      },
      "outputs": [
        {
          "output_type": "execute_result",
          "data": {
            "text/plain": [
              "['position', 'velocity']"
            ]
          },
          "metadata": {},
          "execution_count": 2
        }
      ],
      "source": [
        "schema_pbtx = \"\"\"\n",
        "context {\n",
        "  features {\n",
        "    key: \"time_step\"\n",
        "    value: {\n",
        "      description: \"dt used for updating the velocity and position\"\n",
        "      dtype: DT_FLOAT\n",
        "    }\n",
        "  }\n",
        "}\n",
        "node_sets {\n",
        "  key: \"particles\"\n",
        "  value {\n",
        "    features {\n",
        "      key: \"position\"\n",
        "      value {\n",
        "        description: \"[x,y] position vector\"\n",
        "        dtype: DT_FLOAT\n",
        "        shape { dim { size: 2 } }\n",
        "      }\n",
        "    }\n",
        "    features {\n",
        "      key: \"velocity\"\n",
        "      value {\n",
        "        description: \"[v_x,v_y] velocity vector\"\n",
        "        dtype: DT_FLOAT\n",
        "        shape { dim { size: 2 } }\n",
        "      }\n",
        "    }\n",
        "  }\n",
        "}\n",
        "edge_sets {\n",
        "  key: \"interaction\"\n",
        "  value {\n",
        "    source: \"particles\"\n",
        "    target: \"particles\"\n",
        "    features {\n",
        "      key: \"g\"\n",
        "      value {\n",
        "        description: \"interaction strength\"\n",
        "        dtype: DT_FLOAT\n",
        "        shape { dim { size: 1 } }\n",
        "      }\n",
        "    }\n",
        "  }\n",
        "}\n",
        "\"\"\"\n",
        "graph_schema = text_format.Merge(schema_pbtx, schema_pb2.GraphSchema())\n",
        "graph_tensor_spec = tfgnn.create_graph_spec_from_schema_pb(graph_schema)\n",
        "\n",
        "list(graph_tensor_spec.node_sets_spec[\"particles\"].features_spec.keys())"
      ]
    },
    {
      "cell_type": "markdown",
      "id": "969bf1e9-989a-43b6-b951-92de6dd11637",
      "metadata": {
        "id": "969bf1e9-989a-43b6-b951-92de6dd11637"
      },
      "source": [
        "#### Schema part for mass\n",
        "features {\n",
        "      key: \"mass\"\n",
        "      value {\n",
        "        description: \"mass of the particle\"\n",
        "        dtype: DT_FLOAT\n",
        "        shape { dim { size: 1 } }\n",
        "      }\n",
        "    }"
      ]
    },
    {
      "cell_type": "markdown",
      "id": "98a72449-7cfe-4384-af8d-7d9a55d48db2",
      "metadata": {
        "id": "98a72449-7cfe-4384-af8d-7d9a55d48db2"
      },
      "source": [
        "# Interaction Network Graph Update"
      ]
    },
    {
      "cell_type": "markdown",
      "id": "078185ea-0401-4a0b-9f9b-be48fefa832a",
      "metadata": {
        "id": "078185ea-0401-4a0b-9f9b-be48fefa832a"
      },
      "source": [
        "## MLP builder.\n",
        "returns a keras mlp layer made using keras.Sequential"
      ]
    },
    {
      "cell_type": "code",
      "execution_count": null,
      "id": "077b79fe-c838-453e-89d7-e0cbac679a0a",
      "metadata": {
        "id": "077b79fe-c838-453e-89d7-e0cbac679a0a"
      },
      "outputs": [],
      "source": [
        "def build_mlp(num_hidden_layers: int,\n",
        "              hidden_size: int,\n",
        "              output_size: int,\n",
        "              activation: str = \"relu\",\n",
        "              activate_final: bool = False,\n",
        "              name: str = \"mlp\"):\n",
        "    output_sizes = [hidden_size] * num_hidden_layers + [output_size]\n",
        "    mlp = tf.keras.Sequential(name = name)\n",
        "    rate = 0.2\n",
        "    for layer_i, size in enumerate(output_sizes):\n",
        "        layer_activation = activation\n",
        "        if not activate_final and layer_i == len(output_sizes) - 1:\n",
        "            layer_activation = None\n",
        "    #        rate = 0.0\n",
        "        mlp.add(tf.keras.layers.Dense(\n",
        "                size,\n",
        "                activation = layer_activation,\n",
        "                use_bias = True,\n",
        "                kernel_initializer = \"variance_scaling\",\n",
        "                kernel_regularizer=tf.keras.regularizers.L2(l2=0.001),\n",
        "                bias_regularizer=tf.keras.regularizers.L2(l2=0.001),\n",
        "                bias_initializer = \"zeros\",\n",
        "                name = f\"{name}/dense_{layer_i}\"))\n",
        "     #   mlp.add(tf.keras.layers.Dropout(rate))\n",
        "    return mlp"
      ]
    },
    {
      "cell_type": "markdown",
      "id": "af54a9d1-00e8-478b-8403-0032461a5a97",
      "metadata": {
        "id": "af54a9d1-00e8-478b-8403-0032461a5a97"
      },
      "source": [
        "## Custom Convolve Class"
      ]
    },
    {
      "cell_type": "code",
      "execution_count": null,
      "id": "c0332320-e221-48ad-b1d1-04498619b80d",
      "metadata": {
        "id": "c0332320-e221-48ad-b1d1-04498619b80d"
      },
      "outputs": [],
      "source": [
        "class AllNodeFeatruesConv(tf.keras.layers.Layer):\n",
        "    def __init__(self, *,\n",
        "                 message_fn: Type[tf.keras.layers.Layer],\n",
        "                 reduction_type: str = \"sum\",\n",
        "                 receiver_tag,\n",
        "                 **kwargs):\n",
        "        super().__init__(**kwargs)\n",
        "        self._message_fn = message_fn\n",
        "        self._reduction_type = reduction_type\n",
        "        self._receiver_tag = receiver_tag\n",
        "\n",
        "    def call(self, graph, edge_set_name):\n",
        "        relative_states = []\n",
        "        receiver_states = []\n",
        "        sender_states = []\n",
        "        for feature_name in list(graph.node_sets['particles'].features.keys()):\n",
        "            if feature_name == 'position' or feature_name == 'velocity':\n",
        "            #Use relative position and velocity instead.\n",
        "                y = tfgnn.broadcast_node_to_edges(\n",
        "                graph, edge_set_name, self._receiver_tag,\n",
        "                feature_name = feature_name)\n",
        "\n",
        "                x = tfgnn.broadcast_node_to_edges(\n",
        "                graph, edge_set_name, tfgnn.reverse_tag(self._receiver_tag),\n",
        "                feature_name = feature_name)\n",
        "                relative_states = relative_states + [tf.math.subtract(y,x)]\n",
        "            else:\n",
        "              receiver_states = receiver_states + [tfgnn.broadcast_node_to_edges(\n",
        "                  graph, edge_set_name, self._receiver_tag,\n",
        "                  feature_name = feature_name)]\n",
        "              sender_states = sender_states + [tfgnn.broadcast_node_to_edges(\n",
        "                  graph, edge_set_name, tfgnn.reverse_tag(self._receiver_tag),\n",
        "                  feature_name = feature_name)]\n",
        "\n",
        "        message_inputs = (relative_states + receiver_states + sender_states\n",
        "                          + [graph.edge_sets[edge_set_name].features[\"g\"]])\n",
        "\n",
        "        messages = self._message_fn(tf.concat(message_inputs, axis=-1))\n",
        "\n",
        "        return tfgnn.pool_edges_to_node(graph, edge_set_name, self._receiver_tag,\n",
        "                                        self._reduction_type, feature_value = messages)"
      ]
    },
    {
      "cell_type": "markdown",
      "id": "f8b6265d-eb46-4eea-bf21-c955532a6cd1",
      "metadata": {
        "id": "f8b6265d-eb46-4eea-bf21-c955532a6cd1"
      },
      "source": [
        "## Custom Next Node State\n",
        "If time permits, this will be changed to output the acceleration and some sort of integrator would be used to get the new position and velocity."
      ]
    },
    {
      "cell_type": "code",
      "execution_count": null,
      "id": "c8bb7797-1db1-4694-8780-a3fddc25f8eb",
      "metadata": {
        "id": "c8bb7797-1db1-4694-8780-a3fddc25f8eb"
      },
      "outputs": [],
      "source": [
        "class NextStateFromIntegration(tf.keras.layers.Layer):\n",
        "    def __init__(self, transformation: Type[tf.keras.layers.Layer], **kwargs):\n",
        "        super().__init__(**kwargs)\n",
        "        self._transformation = transformation\n",
        "\n",
        "    def call(self, inputs: Tuple[\n",
        "          const.FieldOrFields, const.FieldsNest, const.FieldsNest\n",
        "          ]) -> const.FieldOrFields:\n",
        "\n",
        "        node, edge, context = inputs\n",
        "\n",
        "        dt = context\n",
        "        dt = tf.transpose([dt])\n",
        "\n",
        "        concat_input = tf.concat(tf.nest.flatten((node, edge)), axis = -1)\n",
        "        outputs = self._transformation(concat_input)\n",
        "\n",
        "        dt = tf.broadcast_to(dt, tf.shape(outputs))\n",
        "\n",
        "        vel = tf.add(node[\"velocity\"], tf.multiply(dt, outputs))\n",
        "        pos = tf.add(node[\"position\"], tf.multiply(dt, vel))\n",
        "\n",
        "        return {\"position\": pos, \"velocity\": vel}"
      ]
    },
    {
      "cell_type": "markdown",
      "id": "f6469422-20a6-493b-9060-ab8c0fd5ea42",
      "metadata": {
        "id": "f6469422-20a6-493b-9060-ab8c0fd5ea42"
      },
      "source": [
        "## Interaction Network Graph Update"
      ]
    },
    {
      "cell_type": "code",
      "execution_count": null,
      "id": "48c1f29b",
      "metadata": {
        "id": "48c1f29b"
      },
      "outputs": [],
      "source": [
        "def InteractionNetworkGraphUpdate(\n",
        "    *,\n",
        "    nodes_next_state_transformation: Type[tf.keras.layers.Layer],\n",
        "    receiver_tag: Optional[tfgnn.IncidentNodeTag] = tfgnn.TARGET,\n",
        "    reduce_type_to_nodes: str = \"sum\",\n",
        "    name: str = \"interaction_network\") -> tfgnn.keras.layers.GraphUpdate:\n",
        "    #nodes_next_state_transformation must output 2 elements (1 per dimension for acceleration)\n",
        "    def deferred_init_callback(graph_spec):\n",
        "        node_set_updates = {}\n",
        "\n",
        "        EdgeConvlayer = build_mlp(num_hidden_layers = 3,\n",
        "                                 hidden_size = 150,\n",
        "                                 output_size = 30,\n",
        "                                 activation = \"tanh\",\n",
        "                                 activate_final = False,\n",
        "                                 name = \"EdgeConvLayer/mlp\")\n",
        "\n",
        "        next_state = NextStateFromIntegration(transformation = nodes_next_state_transformation)\n",
        "        node_set_updates[\"particles\"] = tfgnn.keras.layers.NodeSetUpdate(\n",
        "            next_state = next_state,\n",
        "            edge_set_inputs={\n",
        "                \"interaction\": AllNodeFeatruesConv(\n",
        "                                 message_fn = EdgeConvlayer,\n",
        "                                 reduction_type = \"sum\",\n",
        "                                 receiver_tag = tfgnn.TARGET)},\n",
        "                node_input_feature = list(graph_spec.node_sets_spec[\"particles\"].features_spec.keys()),\n",
        "                context_input_feature = \"time_step\")\n",
        "        return dict(edge_sets = None, node_sets = node_set_updates, context = None)\n",
        "\n",
        "    return tfgnn.keras.layers.GraphUpdate(\n",
        "        deferred_init_callback=deferred_init_callback, name=name)"
      ]
    },
    {
      "cell_type": "markdown",
      "id": "a0eddd82-6169-4d70-a909-d0b049017862",
      "metadata": {
        "id": "a0eddd82-6169-4d70-a909-d0b049017862"
      },
      "source": [
        "## Interaction Network Layer"
      ]
    },
    {
      "cell_type": "code",
      "execution_count": null,
      "id": "7a5fa72d-9ce7-4985-a722-44c76ec8a9fc",
      "metadata": {
        "id": "7a5fa72d-9ce7-4985-a722-44c76ec8a9fc"
      },
      "outputs": [],
      "source": [
        "class INLayer(tf.keras.layers.Layer):\n",
        "    def __init__(self, name: str = \"IN_Layer\"):\n",
        "        super().__init__(name = name)\n",
        "        self.next_state_fn = build_mlp(num_hidden_layers = 2,\n",
        "                                  hidden_size = 100,\n",
        "                                  output_size = 2,\n",
        "                                  activation = \"tanh\",\n",
        "                                  activate_final = False,\n",
        "                                  name = \"Next_state_nodes_layer\")\n",
        "        self.Updater = InteractionNetworkGraphUpdate(\n",
        "                                                nodes_next_state_transformation = self.next_state_fn,\n",
        "                                                receiver_tag = tfgnn.TARGET,\n",
        "                                                reduce_type_to_nodes = \"sum\",\n",
        "                                                name = \"Interaction_Network_GraphUpdate_Layer\")\n",
        "    def call(self, input_graph: tfgnn.GraphTensor) -> tfgnn.GraphTensor:\n",
        "        return self.Updater(input_graph)"
      ]
    },
    {
      "cell_type": "markdown",
      "id": "d94c609c-d8f8-4d2c-9f9c-f8118f5bba73",
      "metadata": {
        "id": "d94c609c-d8f8-4d2c-9f9c-f8118f5bba73"
      },
      "source": [
        "## Running tests with random graph with the graph_tensor_spec"
      ]
    },
    {
      "cell_type": "code",
      "execution_count": null,
      "id": "5a6a09bb-07a7-4b89-b73d-1f395eda8aeb",
      "metadata": {
        "colab": {
          "base_uri": "https://localhost:8080/"
        },
        "id": "5a6a09bb-07a7-4b89-b73d-1f395eda8aeb",
        "outputId": "76d2416d-c8d6-49f0-d7f3-6bd72e7c1de2"
      },
      "outputs": [
        {
          "output_type": "execute_result",
          "data": {
            "text/plain": [
              "GraphTensor(\n",
              "  context=Context(features={'time_step': <tf.Tensor: shape=(1,), dtype=tf.float32>}, sizes=[1], shape=(), indices_dtype=tf.int32),\n",
              "  node_set_names=['particles'],\n",
              "  edge_set_names=['interaction'])"
            ]
          },
          "metadata": {},
          "execution_count": 121
        }
      ],
      "source": [
        "graph = tfgnn.random_graph_tensor(graph_tensor_spec)\n",
        "#graph2 = tfgnn.random_graph_tensor(graph_tensor_spec)\n",
        "graph"
      ]
    },
    {
      "cell_type": "code",
      "execution_count": null,
      "id": "8b672c1d-b4a7-4ac5-9a40-0fc19ae0b76d",
      "metadata": {
        "colab": {
          "base_uri": "https://localhost:8080/"
        },
        "id": "8b672c1d-b4a7-4ac5-9a40-0fc19ae0b76d",
        "outputId": "97aa3883-410b-43a1-988d-7ffe510084f2"
      },
      "outputs": [
        {
          "output_type": "execute_result",
          "data": {
            "text/plain": [
              "{'position': <tf.Tensor: shape=(4, 2), dtype=float32, numpy=\n",
              "array([[0.35762548, 0.8104793 ],\n",
              "       [0.66845083, 0.3272283 ],\n",
              "       [0.8905437 , 0.707037  ],\n",
              "       [0.89232945, 0.14851916]], dtype=float32)>, 'velocity': <tf.Tensor: shape=(4, 2), dtype=float32, numpy=\n",
              "array([[0.13405418, 0.54334664],\n",
              "       [0.07691109, 0.6057415 ],\n",
              "       [0.8368883 , 0.9705782 ],\n",
              "       [0.14411318, 0.6747111 ]], dtype=float32)>}"
            ]
          },
          "metadata": {},
          "execution_count": 122
        }
      ],
      "source": [
        "graph.node_sets[\"particles\"].features"
      ]
    },
    {
      "cell_type": "code",
      "execution_count": null,
      "id": "9c93cc99-2ee7-441b-885e-210c030c0326",
      "metadata": {
        "id": "9c93cc99-2ee7-441b-885e-210c030c0326"
      },
      "outputs": [],
      "source": [
        "Layer = INLayer()\n",
        "new_graph = Layer(graph)\n",
        "#new_graph2 = Layer(graph)"
      ]
    },
    {
      "cell_type": "code",
      "execution_count": null,
      "id": "07b21645-4136-4859-ad23-4df7131ec27f",
      "metadata": {
        "colab": {
          "base_uri": "https://localhost:8080/"
        },
        "id": "07b21645-4136-4859-ad23-4df7131ec27f",
        "outputId": "c52c576e-c15f-4c8f-9f63-daa8fa01a682"
      },
      "outputs": [
        {
          "output_type": "execute_result",
          "data": {
            "text/plain": [
              "{'position': <tf.Tensor: shape=(4, 2), dtype=float32, numpy=\n",
              "array([[0.24128799, 0.32694566],\n",
              "       [0.41119242, 0.64620143],\n",
              "       [0.7974561 , 0.50199085],\n",
              "       [0.17215078, 0.26541603]], dtype=float32)>, 'velocity': <tf.Tensor: shape=(4, 2), dtype=float32, numpy=\n",
              "array([[0.08726458, 0.7589764 ],\n",
              "       [0.8816756 , 0.10707043],\n",
              "       [0.7977376 , 0.81092614],\n",
              "       [0.22446188, 0.9332503 ]], dtype=float32)>}"
            ]
          },
          "metadata": {},
          "execution_count": 324
        }
      ],
      "source": [
        "new_graph.node_sets[\"particles\"].features"
      ]
    },
    {
      "cell_type": "code",
      "execution_count": null,
      "id": "7108c378-f1de-4740-9fcb-c3058625384e",
      "metadata": {
        "colab": {
          "base_uri": "https://localhost:8080/"
        },
        "id": "7108c378-f1de-4740-9fcb-c3058625384e",
        "outputId": "7351ce99-10f5-430a-d78f-3d9ea3892af0"
      },
      "outputs": [
        {
          "output_type": "execute_result",
          "data": {
            "text/plain": [
              "{'g': <tf.Tensor: shape=(6, 1), dtype=float32, numpy=\n",
              "array([[0.59599745],\n",
              "       [0.2365216 ],\n",
              "       [0.9620471 ],\n",
              "       [0.38025784],\n",
              "       [0.6822711 ],\n",
              "       [0.7565428 ]], dtype=float32)>}"
            ]
          },
          "metadata": {},
          "execution_count": 325
        }
      ],
      "source": [
        "graph.edge_sets[\"interaction\"].features"
      ]
    },
    {
      "cell_type": "code",
      "execution_count": null,
      "id": "cdb89c51-470f-45ac-b888-e3d8accb493d",
      "metadata": {
        "colab": {
          "base_uri": "https://localhost:8080/"
        },
        "id": "cdb89c51-470f-45ac-b888-e3d8accb493d",
        "outputId": "716f9099-f0f1-4352-a881-e48ddefce406"
      },
      "outputs": [
        {
          "output_type": "execute_result",
          "data": {
            "text/plain": [
              "{'g': <tf.Tensor: shape=(6, 1), dtype=float32, numpy=\n",
              "array([[0.59599745],\n",
              "       [0.2365216 ],\n",
              "       [0.9620471 ],\n",
              "       [0.38025784],\n",
              "       [0.6822711 ],\n",
              "       [0.7565428 ]], dtype=float32)>}"
            ]
          },
          "metadata": {},
          "execution_count": 326
        }
      ],
      "source": [
        "new_graph.edge_sets[\"interaction\"].features"
      ]
    },
    {
      "cell_type": "markdown",
      "id": "8ae09a99-38eb-4fee-b2f3-e0dd1cb3a82c",
      "metadata": {
        "id": "8ae09a99-38eb-4fee-b2f3-e0dd1cb3a82c"
      },
      "source": [
        "# Simulation Data Generation"
      ]
    },
    {
      "cell_type": "markdown",
      "id": "a538106b-bd7f-4f12-9426-0875f8e7f222",
      "metadata": {
        "id": "a538106b-bd7f-4f12-9426-0875f8e7f222"
      },
      "source": [
        "## Creating data by running a simulation"
      ]
    },
    {
      "cell_type": "code",
      "execution_count": null,
      "id": "9c9ca1b5-d494-4b97-969d-adc538813498",
      "metadata": {
        "colab": {
          "base_uri": "https://localhost:8080/",
          "height": 564
        },
        "id": "9c9ca1b5-d494-4b97-969d-adc538813498",
        "outputId": "87bc82e6-2278-46dd-e040-f73cec31c049",
        "scrolled": true
      },
      "outputs": [
        {
          "output_type": "display_data",
          "data": {
            "text/plain": [
              "<Figure size 800x600 with 1 Axes>"
            ],
            "image/png": "[encoded data removed]"
          },
          "metadata": {}
        }
      ],
      "source": [
        "#Integration Method\n",
        "def get_acc(x,y):\n",
        "  ms = 10\n",
        "  r3 = np.sqrt(x**2 + y**2)**3\n",
        "  ax, ay = -ms*x/r3, -ms*y/r3\n",
        "  return ax, ay\n",
        "\n",
        "def leapfrogIntStep(x,y,vx,vy,dt):\n",
        "\n",
        "    ax, ay = get_acc(x,y)\n",
        "    vxo, vyo = vx + dt*ax, vy + dt*ay\n",
        "    xo, yo = x + dt*vxo, y + dt*vyo\n",
        "\n",
        "  #  ax, ay = get_acc(x,y)  # Gravitational acceleration\n",
        "  #  vxo = vx + 0.5 * ax * dt\n",
        "  #  vyo = vy + 0.5 * ay * dt\n",
        "  #  xo = x + vxo * dt\n",
        "  #  yo = y + vyo * dt\n",
        "  #  ax, ay = get_acc(xo,yo) # Updated acceleration using new position\n",
        "  #  vxo += 0.5 * ax * dt\n",
        "  #  vyo += 0.5 * ay * dt\n",
        "\n",
        "    return xo, yo, vxo, vyo\n",
        "\n",
        "def leapfrogInt(x_values, y_values, vx_values, vy_values, dt):\n",
        "    for i in range(1, len(t_values)):\n",
        "        x_values[i], y_values[i], vx_values[i], vy_values[i] = leapfrogIntStep(\n",
        "            x_values[i-1], y_values[i-1], vx_values[i-1], vy_values[i-1], dt)\n",
        "\n",
        "def gen_Orbit(x0,y0,vx0,vy0,t_values,dt):\n",
        "    x_values = np.zeros_like(t_values)\n",
        "    y_values = np.zeros_like(t_values)\n",
        "    vx_values = np.zeros_like(t_values)\n",
        "    vy_values = np.zeros_like(t_values)\n",
        "\n",
        "    x_values[0] = x0\n",
        "    y_values[0] = y0\n",
        "    vx_values[0] = vx0\n",
        "    vy_values[0] = vy0\n",
        "\n",
        "    leapfrogInt(x_values, y_values, vx_values, vy_values, dt)\n",
        "    return (x_values, y_values, vx_values, vy_values)\n",
        "\n",
        "def random_in_out(num_outputs, dt):\n",
        "    num_out_half = int(num_outputs/2)\n",
        "\n",
        "    in_x_vals = np.concatenate((np.random.uniform(-5, -2, size=(num_out_half,)),\n",
        "                              np.random.uniform(2, 5, size=(num_out_half,))))\n",
        "    in_y_vals = np.concatenate((np.random.uniform(-5, -2, size=(num_out_half,)),\n",
        "                              np.random.uniform(2, 5, size=(num_out_half,))))\n",
        "    in_vx_vals = np.concatenate((np.random.uniform(-2, -0.5, size=(num_out_half,)),\n",
        "                               np.random.uniform(0.5, 2, size=(num_out_half,))))\n",
        "    in_vy_vals = np.concatenate((np.random.uniform(-2, -0.5, size=(num_out_half,)),\n",
        "                               np.random.uniform(0.5, 2, size=(num_out_half,))))\n",
        "\n",
        "    np.random.shuffle(in_x_vals)\n",
        "    np.random.shuffle(in_y_vals)\n",
        "    np.random.shuffle(in_vx_vals)\n",
        "    np.random.shuffle(in_vy_vals)\n",
        "\n",
        "    out_x_vals = np.zeros(num_outputs)\n",
        "    out_y_vals = np.zeros(num_outputs)\n",
        "    out_vx_vals = np.zeros(num_outputs)\n",
        "    out_vy_vals = np.zeros(num_outputs)\n",
        "\n",
        "    for i in range(num_outputs):\n",
        "        (out_x_vals[i], out_y_vals[i], out_vx_vals[i], out_vy_vals[i]) = leapfrogIntStep(in_x_vals[i], in_y_vals[i], in_vx_vals[i], in_vy_vals[i],dt)\n",
        "\n",
        "    input_data_array = [[x, y, vx, vy] for x, y, vx, vy in zip(in_x_vals, in_y_vals, in_vx_vals, in_vy_vals)]\n",
        "    labels = [[x, y, vx, vy, dt] for x, y, vx, vy in zip(out_x_vals, out_y_vals, out_vx_vals, out_vy_vals)]\n",
        "\n",
        "    return input_data_array, labels\n",
        "\n",
        "\n",
        "# Initial conditions (unitless)\n",
        "x0 = 1.0  # Initial x-position of the planet\n",
        "y0 = 0.0  # Initial y-position of the planet\n",
        "vx0 = 0.0  # Initial x-velocity of the planet\n",
        "vy0 = 2.5  # Initial y-velocity of the planet\n",
        "dt = 0.01  # Time step\n",
        "tend = 60 # Final Time\n",
        "t_values = np.arange(0, tend, dt)\n",
        "\n",
        "# Time parameters\n",
        "x1, y1, vx1, vy1 = gen_Orbit(x0,y0,vx0,vy0,t_values,dt)\n",
        "x2, y2, vx2, vy2 = gen_Orbit(0.5,0.75,3,1,t_values,dt)\n",
        "x3, y3, vx3, vy3 = gen_Orbit(2,0.7,-2.5,2,t_values,dt)\n",
        "x4, y4, vx4, vy4 = gen_Orbit(0,-1,3,-3,t_values,dt)\n",
        "x5, y5, vx5, vy5 = gen_Orbit(1,0,0,3,t_values,dt)\n",
        "x6, y6, vx6, vy6 = gen_Orbit(3,-3,1,1,t_values,dt)\n",
        "\n",
        "in1 = [[x, y, vx, vy] for x, y, vx, vy in zip(x1[:-1], y1[:-1], vx1[:-1], vy1[:-1])]\n",
        "out1 = [[x, y, vx, vy, dt] for x, y, vx, vy in zip(x1[1:], y1[1:], vx1[1:], vy1[1:])]\n",
        "in2 = [[x, y, vx, vy] for x, y, vx, vy in zip(x2[:-1], y2[:-1], vx2[:-1], vy2[:-1])]\n",
        "out2 = [[x, y, vx, vy, dt] for x, y, vx, vy in zip(x2[1:], y2[1:], vx2[1:], vy2[1:])]\n",
        "in3 = [[x, y, vx, vy] for x, y, vx, vy in zip(x3[:-1], y3[:-1], vx3[:-1], vy3[:-1])]\n",
        "out3 = [[x, y, vx, vy, dt] for x, y, vx, vy in zip(x3[1:], y3[1:], vx3[1:], vy3[1:])]\n",
        "in4 = [[x, y, vx, vy] for x, y, vx, vy in zip(x4[:-1], y4[:-1], vx4[:-1], vy4[:-1])]\n",
        "out4 = [[x, y, vx, vy, dt] for x, y, vx, vy in zip(x4[1:], y4[1:], vx4[1:], vy4[1:])]\n",
        "\n",
        "x_values = tf.concat([x1]+[x2]+[x3]+[x4]+[x5]+[x6], axis=-1).numpy()\n",
        "y_values = tf.concat([y1]+[y2]+[y3]+[y4]+[y5]+[y6], axis=-1).numpy()\n",
        "vx_values = tf.concat([vx1]+[vx2]+[vx3]+[vx4]+[vx5]+[vx6], axis=-1).numpy()\n",
        "vy_values = tf.concat([vy1]+[vy2]+[vy3]+[vy4]+[vy5]+[vy6], axis=-1).numpy()\n",
        "\n",
        "#x_values = x4\n",
        "#y_values = y4\n",
        "#vx_values = vx4\n",
        "#vy_values = vy4\n",
        "\n",
        "# Plot orbit\n",
        "plt.figure(figsize=(8, 6))\n",
        "plt.plot(x_values, y_values, label='Orbit')\n",
        "plt.plot(0, 0, 'ro', label='Star')  # Star at the origin\n",
        "plt.xlabel('x')\n",
        "plt.ylabel('y')\n",
        "plt.title('Orbit of a planet (Unitless) - Leapfrog Integrator')\n",
        "plt.axis('equal')\n",
        "plt.legend()\n",
        "plt.grid(True)\n",
        "plt.show()"
      ]
    },
    {
      "cell_type": "markdown",
      "id": "f153406c-ad56-4271-820a-36bb84cf86b3",
      "metadata": {
        "id": "f153406c-ad56-4271-820a-36bb84cf86b3"
      },
      "source": [
        "## Convert Data to tf.data.Dataset of GraphTensors"
      ]
    },
    {
      "cell_type": "code",
      "execution_count": null,
      "id": "2cd237f9-c67a-4c0a-95f6-272ee10c6d0a",
      "metadata": {
        "id": "2cd237f9-c67a-4c0a-95f6-272ee10c6d0a"
      },
      "outputs": [],
      "source": [
        "#input_data_array1 = [[x, y, vx, vy] for x, y, vx, vy in zip(x_values[:-1], y_values[:-1], vx_values[:-1], vy_values[:-1])]\n",
        "#output_data_array1 = [[x, y, vx, vy,dt] for x, y, vx, vy in zip(x_values[1:], y_values[1:], vx_values[1:], vy_values[1:])]\n",
        "\n",
        "input_data_array2, output_data_array2 = random_in_out(1000,0.01)\n",
        "\n",
        "#input_data1 = tf.convert_to_tensor(input_data_array1)\n",
        "#labels1 = tf.convert_to_tensor(output_data_array1)\n",
        "\n",
        "input_data1 = tf.concat([in1] + [in2] + [in3] + [in4], axis=0)\n",
        "labels1 = tf.concat([out1] + [out2] + [out3] + [out4], axis=0)\n",
        "\n",
        "input_data2 = tf.convert_to_tensor(input_data_array2)\n",
        "labels2 = tf.convert_to_tensor(output_data_array2)\n",
        "\n",
        "input_data = tf.concat([input_data1, input_data2], axis=0)\n",
        "labels = tf.concat([labels1, labels2], axis=0)\n",
        "\n",
        "graph_info = tf.concat([input_data, labels],axis=-1)\n",
        "\n",
        "dataset = tf.data.Dataset.from_tensor_slices(graph_info)\n",
        "\n",
        "def convert_to_graph(graph_info, verbose = False):\n",
        "    # Sun is particle 0 centered at (0,0) and no velocity\n",
        "    # The planet is particle 1\n",
        "    if verbose:\n",
        "      print(graph_info)\n",
        "    in_pos = tf.cast(tf.convert_to_tensor([graph_info[0], graph_info[1]]), tf.float32)\n",
        "    in_vel = tf.cast(tf.convert_to_tensor([graph_info[2], graph_info[3]]), tf.float32)\n",
        "    dt = tf.cast(tf.convert_to_tensor([graph_info[8]]), tf.float32)\n",
        "\n",
        "    label = [[0,0,0,0], graph_info[4:8]]\n",
        "\n",
        "    graph = tfgnn.GraphTensor.from_pieces(\n",
        "        node_sets={\n",
        "            \"particles\": tfgnn.NodeSet.from_fields(\n",
        "                sizes = [2],\n",
        "                features = {\n",
        "                    \"position\": [tf.constant([0.0,0.0]), in_pos],\n",
        "                    \"velocity\": [tf.constant([0.0,0.0]), in_vel]})},\n",
        "        edge_sets={\n",
        "            \"interaction\": tfgnn.EdgeSet.from_fields(\n",
        "                sizes = [1],\n",
        "                features = {\"g\": tf.expand_dims(tf.cast(tf.constant([1.0]),tf.float32), axis=0)},\n",
        "                adjacency = tfgnn.Adjacency.from_indices(\n",
        "                    source = (\"particles\", [0]),\n",
        "                    target = (\"particles\", [1])))},\n",
        "        context=tfgnn.Context.from_fields(\n",
        "                features = {\"time_step\": dt}))\n",
        "\n",
        "    return graph, label\n",
        "\n",
        "dataset = dataset.map(convert_to_graph).shuffle(buffer_size=50000).batch(32)"
      ]
    },
    {
      "cell_type": "markdown",
      "id": "76e92a7a-d489-4854-b723-5070829d23e9",
      "metadata": {
        "id": "76e92a7a-d489-4854-b723-5070829d23e9"
      },
      "source": [
        "#### Check outputs"
      ]
    },
    {
      "cell_type": "code",
      "execution_count": null,
      "id": "ff76b2b7-8271-4440-a06f-651c5c19f8c9",
      "metadata": {
        "id": "ff76b2b7-8271-4440-a06f-651c5c19f8c9"
      },
      "outputs": [],
      "source": [
        "g, y = dataset.take(1).get_single_element()"
      ]
    },
    {
      "cell_type": "code",
      "execution_count": null,
      "id": "775721f2-b6c9-4b5c-a095-9a542137a19c",
      "metadata": {
        "colab": {
          "base_uri": "https://localhost:8080/"
        },
        "id": "775721f2-b6c9-4b5c-a095-9a542137a19c",
        "outputId": "9ebd2671-d431-44a5-d164-fa0f5dcbfaf7"
      },
      "outputs": [
        {
          "output_type": "execute_result",
          "data": {
            "text/plain": [
              "Context(features={'time_step': <tf.Tensor: shape=(32,), dtype=tf.float32>}, sizes=[1 1 1 1 1 1 1 1 1 1 1 1 1 1 1 1 1 1 1 1 1 1 1 1 1 1 1 1 1 1 1 1], shape=(), indices_dtype=tf.int32)"
            ]
          },
          "metadata": {},
          "execution_count": 40
        }
      ],
      "source": [
        "g.merge_batch_to_components().context"
      ]
    },
    {
      "cell_type": "code",
      "execution_count": null,
      "id": "e90aea11-f1f8-437f-822e-6575b7969a2a",
      "metadata": {
        "id": "e90aea11-f1f8-437f-822e-6575b7969a2a"
      },
      "outputs": [],
      "source": [
        "new_graph = model(g.merge_batch_to_components())"
      ]
    },
    {
      "cell_type": "markdown",
      "id": "f18c9ede-c042-48c5-9e6a-3384284e73f3",
      "metadata": {
        "id": "f18c9ede-c042-48c5-9e6a-3384284e73f3"
      },
      "source": [
        "# Training"
      ]
    },
    {
      "cell_type": "markdown",
      "id": "BxD-rN5Qgszh",
      "metadata": {
        "id": "BxD-rN5Qgszh"
      },
      "source": [
        "## Model"
      ]
    },
    {
      "cell_type": "code",
      "execution_count": null,
      "id": "ewrbPKGsgmRP",
      "metadata": {
        "id": "ewrbPKGsgmRP",
        "colab": {
          "base_uri": "https://localhost:8080/"
        },
        "outputId": "72fa3065-bde6-491e-e91f-b4a921bb2109"
      },
      "outputs": [
        {
          "output_type": "stream",
          "name": "stdout",
          "text": [
            "Model: \"IN_Model\"\n",
            "__________________________________________________________________________________________________\n",
            " Layer (type)                Output Shape                 Param #   Connected to                  \n",
            "==================================================================================================\n",
            " input_1 (InputLayer)        [()]                         0         []                            \n",
            "                                                                                                  \n",
            " input.merge_batch_to_compo  ()                           0         ['input_1[0][0]']             \n",
            " nents (InstanceMethod)                                                                           \n",
            "                                                                                                  \n",
            " IN_Layer (INLayer)          ()                           64532     ['input.merge_batch_to_compone\n",
            "                                                                    nts[0][0]']                   \n",
            "                                                                                                  \n",
            " input.node_sets (InstanceP  {'particles': ()}            0         ['IN_Layer[0][0]']            \n",
            " roperty)                                                                                         \n",
            "                                                                                                  \n",
            " input.node_sets_1 (Instanc  {'particles': ()}            0         ['IN_Layer[0][0]']            \n",
            " eProperty)                                                                                       \n",
            "                                                                                                  \n",
            " input.features (InstancePr  {'position': (None, 2),      0         ['input.node_sets[0][0]']     \n",
            " operty)                      'velocity': (None, 2)}                                              \n",
            "                                                                                                  \n",
            " input.features_1 (Instance  {'position': (None, 2),      0         ['input.node_sets_1[0][0]']   \n",
            " Property)                    'velocity': (None, 2)}                                              \n",
            "                                                                                                  \n",
            " tf.concat (TFOpLambda)      (None, 4)                    0         ['input.features[0][0]',      \n",
            "                                                                     'input.features_1[0][1]']    \n",
            "                                                                                                  \n",
            "==================================================================================================\n",
            "Total params: 64532 (252.08 KB)\n",
            "Trainable params: 64532 (252.08 KB)\n",
            "Non-trainable params: 0 (0.00 Byte)\n",
            "__________________________________________________________________________________________________\n"
          ]
        }
      ],
      "source": [
        "tf.keras.backend.clear_session()\n",
        "\n",
        "Model_layer = INLayer()\n",
        "\n",
        "optimizer = tf.keras.optimizers.Adam(\n",
        "    learning_rate=tf.keras.optimizers.schedules.ExponentialDecay(\n",
        "        initial_learning_rate=1e-3,\n",
        "        decay_steps=46000,\n",
        "        decay_rate=0.30),\n",
        "    )\n",
        "\n",
        "input_graph = tf.keras.layers.Input(type_spec=graph_tensor_spec)\n",
        "graph = input_graph.merge_batch_to_components()\n",
        "\n",
        "output_graph = Model_layer(graph)\n",
        "output = tf.concat([output_graph.node_sets[\"particles\"].features[\"position\"]]\n",
        "                   + [output_graph.node_sets[\"particles\"].features[\"velocity\"]],axis=-1)\n",
        "\n",
        "model = tf.keras.Model(inputs = input_graph, outputs = output, name=\"IN_Model\")\n",
        "\n",
        "model.summary()"
      ]
    },
    {
      "cell_type": "markdown",
      "id": "tWCN3N46gvi_",
      "metadata": {
        "id": "tWCN3N46gvi_"
      },
      "source": [
        "## Custom Loss and Training"
      ]
    },
    {
      "cell_type": "code",
      "execution_count": null,
      "id": "d8f74f14-3def-4a45-aae2-82ae1e958a5b",
      "metadata": {
        "colab": {
          "base_uri": "https://localhost:8080/"
        },
        "id": "d8f74f14-3def-4a45-aae2-82ae1e958a5b",
        "outputId": "02155463-49b6-4f19-8d54-fa323fa96ff6"
      },
      "outputs": [
        {
          "output_type": "stream",
          "name": "stdout",
          "text": [
            "Epoch 1/75\n",
            "782/782 [==============================] - 8s 5ms/step - loss: 2.5343\n",
            "Epoch 2/75\n",
            "782/782 [==============================] - 5s 4ms/step - loss: 1.8506\n",
            "Epoch 3/75\n",
            "782/782 [==============================] - 5s 5ms/step - loss: 1.6187\n",
            "Epoch 4/75\n",
            "782/782 [==============================] - 7s 5ms/step - loss: 1.4573\n",
            "Epoch 5/75\n",
            "782/782 [==============================] - 4s 4ms/step - loss: 1.3612\n",
            "Epoch 6/75\n",
            "782/782 [==============================] - 6s 6ms/step - loss: 1.2924\n",
            "Epoch 7/75\n",
            "782/782 [==============================] - 4s 4ms/step - loss: 1.2453\n",
            "Epoch 8/75\n",
            "782/782 [==============================] - 6s 6ms/step - loss: 1.2182\n",
            "Epoch 9/75\n",
            "782/782 [==============================] - 5s 4ms/step - loss: 1.1956\n",
            "Epoch 10/75\n",
            "782/782 [==============================] - 6s 6ms/step - loss: 1.1880\n",
            "Epoch 11/75\n",
            "782/782 [==============================] - 4s 4ms/step - loss: 1.1710\n",
            "Epoch 12/75\n",
            "782/782 [==============================] - 5s 4ms/step - loss: 1.1532\n",
            "Epoch 13/75\n",
            "782/782 [==============================] - 5s 4ms/step - loss: 1.1523\n",
            "Epoch 14/75\n",
            "782/782 [==============================] - 7s 7ms/step - loss: 1.1513\n",
            "Epoch 15/75\n",
            "782/782 [==============================] - 5s 4ms/step - loss: 1.1441\n",
            "Epoch 16/75\n",
            "782/782 [==============================] - 6s 6ms/step - loss: 1.1354\n",
            "Epoch 17/75\n",
            "782/782 [==============================] - 4s 4ms/step - loss: 1.1445\n",
            "Epoch 18/75\n",
            "782/782 [==============================] - 6s 4ms/step - loss: 1.1292\n",
            "Epoch 19/75\n",
            "782/782 [==============================] - 6s 6ms/step - loss: 1.1285\n",
            "Epoch 20/75\n",
            "782/782 [==============================] - 4s 4ms/step - loss: 1.1267\n",
            "Epoch 21/75\n",
            "782/782 [==============================] - 5s 4ms/step - loss: 1.1171\n",
            "Epoch 22/75\n",
            "782/782 [==============================] - 5s 4ms/step - loss: 1.1351\n",
            "Epoch 23/75\n",
            "782/782 [==============================] - 6s 6ms/step - loss: 1.1357\n",
            "Epoch 24/75\n",
            "782/782 [==============================] - 4s 4ms/step - loss: 1.1167\n",
            "Epoch 25/75\n",
            "782/782 [==============================] - 5s 4ms/step - loss: 1.1136\n",
            "Epoch 26/75\n",
            "782/782 [==============================] - 6s 4ms/step - loss: 1.1211\n",
            "Epoch 27/75\n",
            "782/782 [==============================] - 4s 4ms/step - loss: 1.1096\n",
            "Epoch 28/75\n",
            "782/782 [==============================] - 6s 6ms/step - loss: 1.1093\n",
            "Epoch 29/75\n",
            "782/782 [==============================] - 4s 4ms/step - loss: 1.1065\n",
            "Epoch 30/75\n",
            "782/782 [==============================] - 6s 5ms/step - loss: 1.1078\n",
            "Epoch 31/75\n",
            "782/782 [==============================] - 4s 4ms/step - loss: 1.1120\n",
            "Epoch 32/75\n",
            "782/782 [==============================] - 5s 5ms/step - loss: 1.1100\n",
            "Epoch 33/75\n",
            "782/782 [==============================] - 5s 4ms/step - loss: 1.1053\n",
            "Epoch 34/75\n",
            "782/782 [==============================] - 6s 6ms/step - loss: 1.1080\n",
            "Epoch 35/75\n",
            "782/782 [==============================] - 4s 4ms/step - loss: 1.1024\n",
            "Epoch 36/75\n",
            "782/782 [==============================] - 5s 5ms/step - loss: 1.1044\n",
            "Epoch 37/75\n",
            "782/782 [==============================] - 7s 5ms/step - loss: 1.0998\n",
            "Epoch 38/75\n",
            "782/782 [==============================] - 4s 4ms/step - loss: 1.1014\n",
            "Epoch 39/75\n",
            "782/782 [==============================] - 6s 4ms/step - loss: 1.0981\n",
            "Epoch 40/75\n",
            "782/782 [==============================] - 5s 5ms/step - loss: 1.1033\n",
            "Epoch 41/75\n",
            "782/782 [==============================] - 5s 4ms/step - loss: 1.0959\n",
            "Epoch 42/75\n",
            "782/782 [==============================] - 4s 4ms/step - loss: 1.0993\n",
            "Epoch 43/75\n",
            "782/782 [==============================] - 6s 6ms/step - loss: 1.0983\n",
            "Epoch 44/75\n",
            "782/782 [==============================] - 5s 4ms/step - loss: 1.1018\n",
            "Epoch 45/75\n",
            "782/782 [==============================] - 6s 4ms/step - loss: 1.0982\n",
            "Epoch 46/75\n",
            "782/782 [==============================] - 5s 5ms/step - loss: 1.0965\n",
            "Epoch 47/75\n",
            "782/782 [==============================] - 4s 4ms/step - loss: 1.0962\n",
            "Epoch 48/75\n",
            "782/782 [==============================] - 6s 5ms/step - loss: 1.0955\n",
            "Epoch 49/75\n",
            "782/782 [==============================] - 4s 4ms/step - loss: 1.0963\n",
            "Epoch 50/75\n",
            "782/782 [==============================] - 5s 4ms/step - loss: 1.0936\n",
            "Epoch 51/75\n",
            "782/782 [==============================] - 6s 7ms/step - loss: 1.0986\n",
            "Epoch 52/75\n",
            "782/782 [==============================] - 5s 4ms/step - loss: 1.0957\n",
            "Epoch 53/75\n",
            "782/782 [==============================] - 6s 5ms/step - loss: 1.0936\n",
            "Epoch 54/75\n",
            "782/782 [==============================] - 5s 4ms/step - loss: 1.0919\n",
            "Epoch 55/75\n",
            "782/782 [==============================] - 5s 4ms/step - loss: 1.0951\n",
            "Epoch 56/75\n",
            "782/782 [==============================] - 4s 4ms/step - loss: 1.0910\n",
            "Epoch 57/75\n",
            "782/782 [==============================] - 6s 6ms/step - loss: 1.0896\n",
            "Epoch 58/75\n",
            "782/782 [==============================] - 4s 4ms/step - loss: 1.0899\n",
            "Epoch 59/75\n",
            "782/782 [==============================] - 6s 5ms/step - loss: 1.0936\n",
            "Epoch 60/75\n",
            "782/782 [==============================] - 4s 4ms/step - loss: 1.0911\n",
            "Epoch 61/75\n",
            "782/782 [==============================] - 5s 4ms/step - loss: 1.0904\n",
            "Epoch 62/75\n",
            "782/782 [==============================] - 4s 4ms/step - loss: 1.0888\n",
            "Epoch 63/75\n",
            "782/782 [==============================] - 6s 6ms/step - loss: 1.0902\n",
            "Epoch 64/75\n",
            "782/782 [==============================] - 4s 4ms/step - loss: 1.0891\n",
            "Epoch 65/75\n",
            "782/782 [==============================] - 4s 4ms/step - loss: 1.0878\n",
            "Epoch 66/75\n",
            "782/782 [==============================] - 6s 4ms/step - loss: 1.0898\n",
            "Epoch 67/75\n",
            "782/782 [==============================] - 4s 4ms/step - loss: 1.0880\n",
            "Epoch 68/75\n",
            "782/782 [==============================] - 6s 5ms/step - loss: 1.0877\n",
            "Epoch 69/75\n",
            "782/782 [==============================] - 6s 5ms/step - loss: 1.0893\n",
            "Epoch 70/75\n",
            "782/782 [==============================] - 4s 4ms/step - loss: 1.0881\n",
            "Epoch 71/75\n",
            "782/782 [==============================] - 6s 6ms/step - loss: 1.0873\n",
            "Epoch 72/75\n",
            "782/782 [==============================] - 4s 4ms/step - loss: 1.0876\n",
            "Epoch 73/75\n",
            "782/782 [==============================] - 6s 5ms/step - loss: 1.0871\n",
            "Epoch 74/75\n",
            "782/782 [==============================] - 4s 4ms/step - loss: 1.0866\n",
            "Epoch 75/75\n",
            "782/782 [==============================] - 5s 5ms/step - loss: 1.0877\n"
          ]
        }
      ],
      "source": [
        "@tf.function\n",
        "def custom_loss(y_true, y_pred):\n",
        "    y_true_reshaped = tf.reshape(y_true,(-1,4))\n",
        "    sum_squared_diff = tf.reduce_sum(tf.square(y_true_reshaped - y_pred))\n",
        "    return (sum_squared_diff)\n",
        "\n",
        "class PrintEvery10thEpoch(tf.keras.callbacks.Callback):\n",
        "    def on_epoch_end(self, epoch, logs=None):\n",
        "        if (epoch + 1) % 5 == 0:\n",
        "            print(f\"Epoch {epoch + 1}: Loss = {logs['loss']}\")\n",
        "\n",
        "model.compile(optimizer=optimizer, loss=custom_loss)\n",
        "#history = model.fit(dataset, epochs=10, callbacks=[PrintEvery10thEpoch()], verbose=0)\n",
        "history = model.fit(dataset, epochs=75)"
      ]
    },
    {
      "cell_type": "code",
      "execution_count": null,
      "id": "-Tkik_7Ljr7a",
      "metadata": {
        "colab": {
          "base_uri": "https://localhost:8080/"
        },
        "id": "-Tkik_7Ljr7a",
        "outputId": "f77d2964-4b68-4102-f73e-300c7128b745"
      },
      "outputs": [
        {
          "output_type": "stream",
          "name": "stderr",
          "text": [
            "WARNING:tensorflow:5 out of the last 149 calls to <function Model.make_predict_function.<locals>.predict_function at 0x7c3907e12440> triggered tf.function retracing. Tracing is expensive and the excessive number of tracings could be due to (1) creating @tf.function repeatedly in a loop, (2) passing tensors with different shapes, (3) passing Python objects instead of tensors. For (1), please define your @tf.function outside of the loop. For (2), @tf.function has reduce_retracing=True option that can avoid unnecessary retracing. For (3), please refer to https://www.tensorflow.org/guide/function#controlling_retracing and https://www.tensorflow.org/api_docs/python/tf/function for  more details.\n"
          ]
        },
        {
          "output_type": "stream",
          "name": "stdout",
          "text": [
            "1/1 [==============================] - 1s 720ms/step\n",
            "[ 4.349896e-05 -8.649687e-05  4.349896e-03 -8.649687e-03]\n",
            "tf.Tensor([0. 0. 0. 0.], shape=(4,), dtype=float64)\n"
          ]
        }
      ],
      "source": [
        "print(model.predict(g)[0,:])\n",
        "print(tf.reshape(y,(-1,4))[0,:])"
      ]
    },
    {
      "cell_type": "code",
      "execution_count": null,
      "id": "3efe75e4-034c-4aca-9891-194decf08c90",
      "metadata": {
        "colab": {
          "base_uri": "https://localhost:8080/",
          "height": 489
        },
        "id": "3efe75e4-034c-4aca-9891-194decf08c90",
        "outputId": "0e5b9fa9-929f-43cc-e64a-aa397792e066"
      },
      "outputs": [
        {
          "output_type": "display_data",
          "data": {
            "text/plain": [
              "<Figure size 640x480 with 1 Axes>"
            ],
            "image/png": "[encoded data removed]"
          },
          "metadata": {}
        },
        {
          "output_type": "stream",
          "name": "stdout",
          "text": [
            "1.0876822471618652\n"
          ]
        }
      ],
      "source": [
        "loss = history.history['loss']\n",
        "plt.plot(loss)\n",
        "plt.title('Training Loss')\n",
        "plt.xlabel('Epoch')\n",
        "plt.ylabel('Loss')\n",
        "plt.show()\n",
        "print(loss[-1])"
      ]
    },
    {
      "cell_type": "markdown",
      "id": "0dd66941-c907-4ed7-9e1f-5bc753679b86",
      "metadata": {
        "id": "0dd66941-c907-4ed7-9e1f-5bc753679b86"
      },
      "source": [
        "# Predicting the Continuation of the Orbit"
      ]
    },
    {
      "cell_type": "code",
      "source": [
        "def get_new_pos_and_vel_graph(graph):\n",
        "  next_graph = Model_layer(graph)\n",
        "  return (next_graph.node_sets[\"particles\"].features[\"position\"],\n",
        "          next_graph.node_sets[\"particles\"].features[\"velocity\"],\n",
        "          next_graph)"
      ],
      "metadata": {
        "id": "OS7Wpg1brLkZ"
      },
      "id": "OS7Wpg1brLkZ",
      "execution_count": null,
      "outputs": []
    },
    {
      "cell_type": "code",
      "execution_count": null,
      "id": "5bc7fcb8-726c-459b-aac7-bf01a9f6d99f",
      "metadata": {
        "id": "5bc7fcb8-726c-459b-aac7-bf01a9f6d99f"
      },
      "outputs": [],
      "source": [
        "def get_new_pos_and_vel(pos_vel_vec,dt):\n",
        "    graph_info = [tf.squeeze(tf.concat([pos_vel_vec, [0,0,0,0,dt]],axis=-1))]\n",
        "\n",
        "    last_data = tf.data.Dataset.from_tensor_slices(graph_info)\n",
        "\n",
        "    last_data = last_data.map(convert_to_graph).batch(1)\n",
        "\n",
        "    for input, label in last_data:\n",
        "        input_graph = input\n",
        "\n",
        "    return model.predict(input_graph, verbose=0)"
      ]
    },
    {
      "cell_type": "code",
      "source": [
        "def get_start_graph(pos_vel_vec,dt):\n",
        "  graph_info = tf.squeeze(tf.concat([pos_vel_vec, [0,0,0,0,dt]],axis=-1))\n",
        "  return convert_to_graph(graph_info, False)[0]"
      ],
      "metadata": {
        "id": "kmcFeo99tQrW"
      },
      "id": "kmcFeo99tQrW",
      "execution_count": null,
      "outputs": []
    },
    {
      "cell_type": "code",
      "execution_count": null,
      "id": "1b3ad54c-76d7-45fe-a4e9-93d7536d40e6",
      "metadata": {
        "colab": {
          "base_uri": "https://localhost:8080/",
          "height": 564
        },
        "id": "1b3ad54c-76d7-45fe-a4e9-93d7536d40e6",
        "outputId": "80f30418-bb7e-4441-dc39-7e40a59c157f"
      },
      "outputs": [
        {
          "output_type": "display_data",
          "data": {
            "text/plain": [
              "<Figure size 800x600 with 1 Axes>"
            ],
            "image/png": "[encoded data removed]"
          },
          "metadata": {}
        }
      ],
      "source": [
        "num_pred = 150\n",
        "pos_pred = np.zeros((num_pred,2),dtype=np.float32)\n",
        "vel_pred = np.zeros((num_pred,2),dtype=np.float32)\n",
        "\n",
        "pos_pred_sun = np.zeros((num_pred,2),dtype=np.float32)\n",
        "vel_pred_sun = np.zeros((num_pred,2),dtype=np.float32)\n",
        "\n",
        "#input_data_array = [[x, y, vx, vy] for x, y, vx, vy in zip(x_values[-2:-1], y_values[-2:-1], vx_values[-2:-1], vy_values[-2:-1])]\n",
        "input_data_array = [[x, y, vx, vy] for x, y, vx, vy in zip(x_values[0:1], y_values[0:1], vx_values[0:1], vy_values[0:1])]\n",
        "input_data = tf.cast(tf.squeeze(tf.convert_to_tensor(input_data_array)),dtype=tf.float32)\n",
        "\n",
        "\n",
        "pos_pred[0] = [input_data[0], input_data[1]]\n",
        "vel_pred[0] = [input_data[2], input_data[3]]\n",
        "\n",
        "# pos_pred_sun[0] = [0, 0]\n",
        "# vel_pred_sun[0] = [0, 0]\n",
        "\n",
        "pos_vel_vec = tf.squeeze(tf.concat([pos_pred[0], vel_pred[0]],axis=-1))\n",
        "graph = get_start_graph(pos_vel_vec,dt)\n",
        "\n",
        "for i in range(1,num_pred):\n",
        "    # temp = get_new_pos_and_vel(tf.squeeze(tf.concat([pos_pred[i-1], vel_pred[i-1]],axis=-1)),0.01)\n",
        "    # pos_pred[i] = [temp[1,0], temp[1,1]]\n",
        "    # vel_pred[i] = [temp[1,2], temp[1,3]]\n",
        "    temp_x, temp_v, graph = get_new_pos_and_vel_graph(graph)\n",
        "    pos_pred[i] = [temp_x[1,0], temp_x[1,1]]\n",
        "    vel_pred[i] = [temp_v[1,0], temp_v[1,1]]\n",
        "\n",
        "    pos_pred_sun[i] = [temp_x[0,0], temp_x[0,1]]\n",
        "    vel_pred_sun[i] = [temp_v[0,0], temp_v[0,1]]\n",
        "\n",
        "\n",
        "plt.figure(figsize=(8, 6))\n",
        "plt.plot(x_values[0:150], y_values[0:150], '--k', label='Orbit_Actual')\n",
        "plt.plot(pos_pred[:,0], pos_pred[:,1],label='Orbit_Pred')\n",
        "plt.plot(pos_pred_sun[:,0], pos_pred_sun[:,1], 'ro', label='Star')  # Star at the origin\n",
        "plt.xlabel('x')\n",
        "plt.ylabel('y')\n",
        "plt.title('Orbit of a planet (Unitless) - Leapfrog Integrator')\n",
        "plt.axis('equal')\n",
        "plt.legend()\n",
        "plt.grid(True)\n",
        "plt.show()"
      ]
    },
    {
      "cell_type": "code",
      "execution_count": null,
      "id": "b62f65f0-2153-4f6a-a065-5a53daea174f",
      "metadata": {
        "colab": {
          "base_uri": "https://localhost:8080/",
          "height": 564
        },
        "id": "b62f65f0-2153-4f6a-a065-5a53daea174f",
        "outputId": "6ce395bf-b487-4221-9b33-c5e61d8919ba"
      },
      "outputs": [
        {
          "output_type": "display_data",
          "data": {
            "text/plain": [
              "<Figure size 800x600 with 1 Axes>"
            ],
            "image/png": "[encoded data removed]"
          },
          "metadata": {}
        }
      ],
      "source": [
        "num_pred = 150\n",
        "pos_pred = np.zeros((num_pred,2),dtype=np.float32)\n",
        "vel_pred = np.zeros((num_pred,2),dtype=np.float32)\n",
        "\n",
        "pos_pred_sun = np.zeros((num_pred,2),dtype=np.float32)\n",
        "vel_pred_sun = np.zeros((num_pred,2),dtype=np.float32)\n",
        "\n",
        "#input_data_array = [[x, y, vx, vy] for x, y, vx, vy in zip(x_values[-2:-1], y_values[-2:-1], vx_values[-2:-1], vy_values[-2:-1])]\n",
        "input_data_array = [2, 0, 0.5, 1]\n",
        "input_data = tf.cast(tf.squeeze(tf.convert_to_tensor(input_data_array)),dtype=tf.float32)\n",
        "\n",
        "x_val, y_val, _, _ = gen_Orbit(2, 0, 0.5, 1, t_values, 0.01)\n",
        "\n",
        "\n",
        "pos_pred[0] = [input_data[0], input_data[1]]\n",
        "vel_pred[0] = [input_data[2], input_data[3]]\n",
        "\n",
        "pos_vel_vec = tf.squeeze(tf.concat([pos_pred[0], vel_pred[0]],axis=-1))\n",
        "graph = get_start_graph(pos_vel_vec,dt)\n",
        "\n",
        "for i in range(1,num_pred):\n",
        "    # temp = get_new_pos_and_vel(tf.squeeze(tf.concat([pos_pred[i-1], vel_pred[i-1]],axis=-1)),0.01)\n",
        "    # pos_pred[i] = [temp[1,0], temp[1,1]]\n",
        "    # vel_pred[i] = [temp[1,2], temp[1,3]]\n",
        "    temp_x, temp_v, graph = get_new_pos_and_vel_graph(graph)\n",
        "    pos_pred[i] = [temp_x[1,0], temp_x[1,1]]\n",
        "    vel_pred[i] = [temp_v[1,0], temp_v[1,1]]\n",
        "\n",
        "    pos_pred_sun[i] = [temp_x[0,0], temp_x[0,1]]\n",
        "    vel_pred_sun[i] = [temp_v[0,0], temp_v[0,1]]\n",
        "\n",
        "plt.figure(figsize=(8, 6))\n",
        "plt.plot(x_val[:150], y_val[:150], '--k', label='Orbit_Actual')\n",
        "plt.plot(pos_pred[:,0], pos_pred[:,1],label='Orbit_Pred')\n",
        "plt.plot(pos_pred_sun[:,0], pos_pred_sun[:,1], 'ro', label='Star')  # Star at the origin\n",
        "plt.xlabel('x')\n",
        "plt.ylabel('y')\n",
        "plt.title('Orbit of a planet (Unitless) - Leapfrog Integrator')\n",
        "plt.axis('equal')\n",
        "plt.legend()\n",
        "plt.grid(True)\n",
        "plt.show()"
      ]
    },
    {
      "cell_type": "code",
      "execution_count": null,
      "id": "43e38128-b2eb-4e72-9501-9b4b0d2804c7",
      "metadata": {
        "id": "43e38128-b2eb-4e72-9501-9b4b0d2804c7"
      },
      "outputs": [],
      "source": []
    }
  ],
  "metadata": {
    "colab": {
      "collapsed_sections": [
        "d94c609c-d8f8-4d2c-9f9c-f8118f5bba73"
      ],
      "provenance": [],
      "include_colab_link": true
    },
    "kernelspec": {
      "display_name": "Python 3 (ipykernel)",
      "language": "python",
      "name": "python3"
    },
    "language_info": {
      "codemirror_mode": {
        "name": "ipython",
        "version": 3
      },
      "file_extension": ".py",
      "mimetype": "text/x-python",
      "name": "python",
      "nbconvert_exporter": "python",
      "pygments_lexer": "ipython3",
      "version": "3.9.18"
    }
  },
  "nbformat": 4,
  "nbformat_minor": 5
}